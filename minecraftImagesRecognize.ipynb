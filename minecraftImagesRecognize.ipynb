{
  "nbformat": 4,
  "nbformat_minor": 0,
  "metadata": {
    "colab": {
      "name": "Copia de minecraftImagesRecognize.ipynb",
      "provenance": [],
      "collapsed_sections": [],
      "authorship_tag": "ABX9TyPMFELbH6rJlGD7boLgClsK",
      "include_colab_link": true
    },
    "kernelspec": {
      "name": "python3",
      "display_name": "Python 3"
    },
    "language_info": {
      "name": "python"
    },
    "accelerator": "GPU"
  },
  "cells": [
    {
      "cell_type": "markdown",
      "metadata": {
        "id": "view-in-github",
        "colab_type": "text"
      },
      "source": [
        "<a href=\"https://colab.research.google.com/github/alevinas/minecraftImagesRNA/blob/main/minecraftImagesRecognize.ipynb\" target=\"_parent\"><img src=\"https://colab.research.google.com/assets/colab-badge.svg\" alt=\"Open In Colab\"/></a>"
      ]
    },
    {
      "cell_type": "code",
      "execution_count": null,
      "metadata": {
        "id": "HvQNBc8LXFNK"
      },
      "outputs": [],
      "source": [
        "# Load libraries\n",
        "\n",
        "import tensorflow as tf\n",
        "import numpy as np\n",
        "import matplotlib.pyplot as plt\n",
        "import matplotlib.image as mpimag\n",
        "import zipfile as zipFile\n",
        "import os\n",
        "import re\n",
        "import cv2\n",
        "from PIL import Image\n",
        "from random import randint"
      ]
    },
    {
      "cell_type": "code",
      "source": [
        "# Own dataset with minecraft mobs images from Github\n",
        "!wget --no-check-certificate \\\n",
        "    \"https://github.com/alevinas/minecraftImagesRNA/archive/refs/heads/main.zip\" \\\n",
        "    -O \"/content/minecraftImagesRNA.zip\"\n",
        "\n",
        "\n",
        "zip_ref = zipFile.ZipFile('/content/minecraftImagesRNA.zip', 'r') #Opens the zip file in read mode\n",
        "zip_ref.extractall('/content') #Extracts the files into the /content folder\n",
        "zip_ref.close()\n",
        "\n",
        "!rm minecraftImagesRNA.zip # Erase the zip"
      ],
      "metadata": {
        "id": "IlzGPXMPMmrK"
      },
      "execution_count": null,
      "outputs": []
    },
    {
      "cell_type": "code",
      "source": [
        "# Auxiliar function to better prints\n",
        "def boldText(text):\n",
        "  return \"\\033[1m\" + text + \"\\033[0m\"\n",
        "\n",
        "pathDirDataset = '/content/minecraftImagesRNA-main/dataset'\n",
        "pathTrain = '/train'\n",
        "pathTest = '/test'"
      ],
      "metadata": {
        "id": "Tfa5ob9F7PEh"
      },
      "execution_count": null,
      "outputs": []
    },
    {
      "cell_type": "code",
      "source": [
        "#@markdown ### Defina los parámetros de las imágenes:\n",
        "imagen_largo_ancho =  64#@param {type:\"integer\"}\n",
        "imagen_color = True #@param {type:\"boolean\"}\n",
        "\n",
        "if imagen_largo_ancho <= 15: # Minimum size\n",
        "  imagen_largo_ancho = 15\n",
        "image_shape = (imagen_largo_ancho, imagen_largo_ancho, 3 if imagen_color == True else 1) # 3 color RGB y 1 BN\n",
        "tam_input = image_shape[0] * image_shape[1] * image_shape[2] # Image size\n",
        "\n",
        "\n",
        "#@markdown ### Defina los parámetros de la RNA:\n",
        "cantEpochs = 200 #@param {type:\"integer\"}\n",
        "\n",
        "print(\"Configuración para las imágenes\")\n",
        "print(\"Tamaño de la imagen: \", image_shape)\n",
        "print(\"=================================\")\n",
        "print(\"Configuración para la RNA\")\n",
        "print(\"Cantidad de epocas definidas:\", cantEpochs)"
      ],
      "metadata": {
        "id": "tSRAd9RIscDf"
      },
      "execution_count": null,
      "outputs": []
    },
    {
      "cell_type": "code",
      "source": [
        "# Processing image\n",
        "\n",
        "def processImage(img):\n",
        "  if(image_shape[2]==1):\n",
        "    imageType = 'L' # Black and White\n",
        "  else:\n",
        "    imageType = 'RGB'\n",
        "  img = img.convert(imageType)\n",
        "  img = img.resize((image_shape[0], image_shape[1]), Image.ANTIALIAS) # With anti-aliansing\n",
        "  return img, imageType\n",
        "\n",
        "# I define the function to load the images\n",
        "\n",
        "def loadImages(dirPath):\n",
        "  images = []\n",
        "  mobs = []\n",
        "\n",
        "  allDirMobs = os.listdir(dirPath) ## List all folders\n",
        "  for dir in allDirMobs:\n",
        "    if not dir.startswith('.'):\n",
        "      pathAux = dirPath + os.sep + dir\n",
        "      allImagesMob = os.listdir(pathAux) ## List all images by folder\n",
        "      for img in allImagesMob:\n",
        "        if re.search('\\.(jpg|jpeg|png|bmp)$', img):\n",
        "          imgPath = Image.open(pathAux + os.sep + img)\n",
        "          img, imageType = processImage(imgPath)\n",
        "          img = np.array(img) # I want a pixels array\n",
        "          images.append(img)\n",
        "          mobs.append(dir) # mobs.append(dir.capitalize()) --> TODO\n",
        "  return images, mobs, imageType\n",
        "\n",
        "images_train, mobs_train, imageType_train = loadImages(pathDirDataset + pathTrain)\n",
        "\n",
        "print(boldText(\"Datos cargados sobre entrenamiento:\"))\n",
        "print(\"- Mobs cargadas: \", len(mobs_train))\n",
        "print(\"- Imágenes cargadas: \", len(images_train))\n",
        "print(\"- Ejemplo:\")\n",
        "display(Image.fromarray(images_train[2]))\n",
        "\n",
        "images_test, mobs_test, imageType_test = loadImages(pathDirDataset + pathTest)\n",
        "\n",
        "print(boldText(\"Datos cargados sobre test:\"))\n",
        "print(\"- Mobs cargadas: \", len(mobs_test))\n",
        "print(\"- Imágenes cargadas: \", len(images_test))\n",
        "print(\"- Ejemplo:\")\n",
        "display(Image.fromarray(images_train[3]))\n"
      ],
      "metadata": {
        "id": "qnthHV5xLfZL"
      },
      "execution_count": null,
      "outputs": []
    },
    {
      "cell_type": "code",
      "source": [
        "# Generate labels by mob to supervised algorithm of the RNA\n",
        "# Normalization \n",
        "def prepareImgList(imgList):\n",
        "  aux = np.array(imgList).astype('float32') / 255\n",
        "  aux = aux.reshape((len(aux),tam_input))\n",
        "  return np.array(aux)\n",
        "\n",
        "# With One Hot Encoded Data\n",
        "def prepareMobList(mobsList, dictionary=None):\n",
        "  if dictionary==None:\n",
        "    auxDict = list(set(mobsList))\n",
        "    dictionary = dict(zip(auxDict, range(len(auxDict))))\n",
        "  # Mapping\n",
        "  y = []\n",
        "  for mob in mobsList:\n",
        "      y.append(dictionary[mob])\n",
        "  # To transform a numeric array to binary array\n",
        "  oneHot_y = tf.keras.utils.to_categorical(y)\n",
        "\n",
        "  return np.array(y), np.array(oneHot_y), dictionary\n",
        "\n",
        "x_train = prepareImgList(images_train)\n",
        "x_test = prepareImgList(images_test)\n",
        "\n",
        "y_train, oneHot_y_train, dictionary = prepareMobList(mobs_train)\n",
        "y_test, oneHot_y_test, _  = prepareMobList(mobs_test)\n",
        "\n",
        "# Auxiliar dictionary\n",
        "mobs = [x for x,y in dictionary.items()]\n",
        "\n",
        "# Plot image with different size\n",
        "def plotImage(img):\n",
        "  if image_shape[2]==1:\n",
        "    plt.imshow((img*255).reshape(image_shape[0], image_shape[1]).astype(np.uint8))\n",
        "    plt.gray()\n",
        "  else:\n",
        "    plt.imshow((img*255).reshape(image_shape).astype(np.uint8))\n",
        "  plt.axis(\"off\") \n",
        "\n",
        "print(boldText(\"Entrenamiento:\"))\n",
        "print(\"(Cantidad de imágenes, Cantidad píxeles por imagen)\", x_train.shape, end=\"\\n\\n\")\n",
        "\n",
        "print(boldText(\"Prueba:\"))\n",
        "print(\"(Cantidad de imágenes, Cantidad píxeles por imagen)\", x_test.shape, end=\"\\n\\n\")\n",
        "\n",
        "print(boldText(\"General:\"))\n",
        "print(\"Diccionario:\", dictionary)\n",
        "print(\"Mobs:\", mobs, end=\"\\n\\n\")\n",
        "\n",
        "print(boldText(\"Ejemplo:\"))\n",
        "print(\"Imagen de:\", mobs[y_train[3]], \"( Dictionary ID:\", y_train[3], \"|| One Hot Code\", oneHot_y_train[3], \")\")\n",
        "plotImage(x_train[3])"
      ],
      "metadata": {
        "id": "ToCd33HOuK2N"
      },
      "execution_count": null,
      "outputs": []
    },
    {
      "cell_type": "code",
      "source": [
        "# Construct the RNA\n",
        "\n"
      ],
      "metadata": {
        "id": "LWK7EYeVGjfC"
      },
      "execution_count": null,
      "outputs": []
    }
  ]
}